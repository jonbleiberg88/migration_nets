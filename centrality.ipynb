{
 "cells": [
  {
   "cell_type": "code",
   "execution_count": 1,
   "metadata": {
    "collapsed": true
   },
   "outputs": [],
   "source": [
    "import numpy as np\n",
    "import pandas as pd\n",
    "import networkx as nx"
   ]
  },
  {
   "cell_type": "code",
   "execution_count": 2,
   "metadata": {
    "collapsed": true
   },
   "outputs": [],
   "source": [
    "g_2017 = nx.read_gpickle(\"graphs/mig_cit/mig_cit2017\")"
   ]
  },
  {
   "cell_type": "code",
   "execution_count": 9,
   "metadata": {
    "scrolled": true
   },
   "outputs": [
    {
     "data": {
      "text/plain": [
       "[('United Kingdom', 0.4498856496695259),\n",
       " ('Germany', 0.4441800020171456),\n",
       " ('Switzerland', 0.4173329125872437),\n",
       " ('Spain', 0.4165452084082832),\n",
       " ('France', 0.36171005066764),\n",
       " ('Belgium', 0.22220205619136613),\n",
       " ('Austria', 0.14831764153079313),\n",
       " ('Netherlands', 0.12721645838263473),\n",
       " ('Italy', 0.10560692917177328),\n",
       " ('Ireland', 0.09887466140911726),\n",
       " ('Luxembourg', 0.055614906462135724),\n",
       " ('Sweden', 0.05391295062173662),\n",
       " ('Norway', 0.04534359476118229),\n",
       " ('Denmark', 0.04259466813143909),\n",
       " ('Portugal', 0.03696233639541813),\n",
       " ('Czechia', 0.024967890627859087),\n",
       " ('Greece', 0.023916768667680385),\n",
       " ('Hungary', 0.019764376553018714),\n",
       " ('Romania', 0.013543889472175488),\n",
       " ('Finland', 0.010650687480217207),\n",
       " ('Poland', 0.008611755701008385),\n",
       " ('Slovakia', 0.007338956656088886),\n",
       " ('Bulgaria', 0.004395862816282116),\n",
       " ('Liechtenstein', 0.004164389972984848),\n",
       " ('Croatia', 0.0034450062104213145),\n",
       " ('Estonia', 0.002380856530405635),\n",
       " ('Iceland', 0.0023780930818166237),\n",
       " ('Slovenia', 0.001719111084790137),\n",
       " ('Lithuania', 0.0009564690319618314),\n",
       " ('Latvia', 0.0006500008275606666),\n",
       " ('Cyprus', 1.492238387075208e-83),\n",
       " ('Malta', 1.492238387075208e-83)]"
      ]
     },
     "execution_count": 9,
     "metadata": {},
     "output_type": "execute_result"
    }
   ],
   "source": [
    "sorted(nx.eigenvector_centrality(g_2017,max_iter=1000, weight='weight').items(), key=lambda x: x[1], reverse=True)"
   ]
  },
  {
   "cell_type": "code",
   "execution_count": 10,
   "metadata": {
    "scrolled": true
   },
   "outputs": [
    {
     "data": {
      "text/plain": [
       "[('Liechtenstein', 0.9023406458892939),\n",
       " ('Luxembourg', 0.377670720226949),\n",
       " ('Switzerland', 0.15190965458505376),\n",
       " ('Belgium', 0.06513941707318598),\n",
       " ('Ireland', 0.05611567123979663),\n",
       " ('Austria', 0.05407319097571997),\n",
       " ('Norway', 0.04536946557700557),\n",
       " ('United Kingdom', 0.03419748014381303),\n",
       " ('Denmark', 0.033575534164191824),\n",
       " ('Sweden', 0.0315400967825533),\n",
       " ('Germany', 0.02943734773120054),\n",
       " ('Spain', 0.02926254757785258),\n",
       " ('Iceland', 0.029019279560061395),\n",
       " ('Netherlands', 0.025547779602319944),\n",
       " ('France', 0.02256348619619644),\n",
       " ('Finland', 0.011714834357787047),\n",
       " ('Portugal', 0.01155718770669836),\n",
       " ('Czechia', 0.010039494896729824),\n",
       " ('Estonia', 0.00799767678202213),\n",
       " ('Italy', 0.00750394615401186),\n",
       " ('Hungary', 0.0073949569622537275),\n",
       " ('Greece', 0.007147311253400342),\n",
       " ('Slovakia', 0.006440361018953928),\n",
       " ('Slovenia', 0.003616133469420237),\n",
       " ('Romania', 0.002998085508741338),\n",
       " ('Croatia', 0.002772212246438594),\n",
       " ('Bulgaria', 0.001939682816270289),\n",
       " ('Latvia', 0.0014932793260144868),\n",
       " ('Lithuania', 0.0012224896097629263),\n",
       " ('Poland', 0.00073729926080865),\n",
       " ('Cyprus', 2.2968435265419227e-06),\n",
       " ('Malta', 2.2968435265419227e-06)]"
      ]
     },
     "execution_count": 10,
     "metadata": {},
     "output_type": "execute_result"
    }
   ],
   "source": [
    "sorted(nx.eigenvector_centrality(g_2017,max_iter=1000, weight='scaled').items(), key=lambda x: x[1], reverse=True)"
   ]
  },
  {
   "cell_type": "code",
   "execution_count": 21,
   "metadata": {
    "collapsed": true,
    "scrolled": true
   },
   "outputs": [],
   "source": [
    "# extract all eigenvector centralities\n",
    "cent_df = pd.DataFrame(sorted(list(g_2017.nodes())), columns=['Country'])"
   ]
  },
  {
   "cell_type": "code",
   "execution_count": 26,
   "metadata": {
    "collapsed": true
   },
   "outputs": [],
   "source": [
    "n_countries = 32\n",
    "# unscaled\n",
    "for year in range(1998, 2018):\n",
    "    g = nx.read_gpickle(f\"graphs/mig_cit/mig_cit{year}\")\n",
    "    cent_df[f'cent_{year}'] = np.zeros(n_countries)\n",
    "    cent_vals = nx.eigenvector_centrality(g_2017,max_iter=1000, weight='weight')\n",
    "    cent_df[f'cent_{year}'] =cent_df.apply(lambda r: cent_vals[r['Country']], axis=1)"
   ]
  },
  {
   "cell_type": "code",
   "execution_count": 28,
   "metadata": {
    "collapsed": true
   },
   "outputs": [],
   "source": [
    "cent_df.to_csv(\"data/eig_cent_unscaled.csv\")"
   ]
  },
  {
   "cell_type": "code",
   "execution_count": 50,
   "metadata": {
    "collapsed": true
   },
   "outputs": [],
   "source": [
    "# scaled\n",
    "for year in range(1998, 2018):\n",
    "    g = nx.read_gpickle(f\"graphs/mig_cit/mig_cit{year}\")\n",
    "    cent_df[f'cent_{year}'] = np.zeros(n_countries)\n",
    "    cent_vals = nx.eigenvector_centrality(g,max_iter=10000, weight='scaled')\n",
    "    cent_df[f'cent_{year}'] =cent_df.apply(lambda r: cent_vals[r['Country']], axis=1)"
   ]
  },
  {
   "cell_type": "code",
   "execution_count": 51,
   "metadata": {
    "collapsed": true
   },
   "outputs": [],
   "source": [
    "cent_df.to_csv(\"data/eig_cent_scaled.csv\")"
   ]
  },
  {
   "cell_type": "code",
   "execution_count": 35,
   "metadata": {},
   "outputs": [
    {
     "name": "stdout",
     "output_type": "stream",
     "text": [
      "['Austria', 'Belgium', 'Bulgaria', 'Croatia', 'Cyprus', 'Czechia', 'Denmark', 'Estonia', 'Finland', 'France', 'Germany', 'Greece', 'Hungary', 'Iceland', 'Ireland', 'Italy', 'Latvia', 'Liechtenstein', 'Lithuania', 'Luxembourg', 'Malta', 'Netherlands', 'Norway', 'Poland', 'Portugal', 'Romania', 'Slovakia', 'Slovenia', 'Spain', 'Sweden', 'Switzerland', 'United Kingdom']\n"
     ]
    }
   ],
   "source": [
    "print(list(cent_df.Country))"
   ]
  },
  {
   "cell_type": "code",
   "execution_count": 73,
   "metadata": {},
   "outputs": [
    {
     "data": {
      "text/plain": [
       "Country\n",
       "Liechtenstein     0.989083\n",
       "Switzerland       0.115714\n",
       "Norway            0.043341\n",
       "Austria           0.041451\n",
       "Belgium           0.036291\n",
       "Sweden            0.032446\n",
       "Denmark           0.027564\n",
       "Iceland           0.018814\n",
       "Germany           0.018551\n",
       "Spain             0.017826\n",
       "Netherlands       0.016351\n",
       "Finland           0.008613\n",
       "Czechia           0.007896\n",
       "United Kingdom    0.006774\n",
       "Slovakia          0.006197\n",
       "Hungary           0.005616\n",
       "Portugal          0.005438\n",
       "Italy             0.004169\n",
       "Estonia           0.002940\n",
       "Slovenia          0.002302\n",
       "Latvia            0.001008\n",
       "Bulgaria          0.000846\n",
       "Romania           0.000742\n",
       "Malta             0.000003\n",
       "Ireland           0.000003\n",
       "Greece            0.000003\n",
       "Poland            0.000003\n",
       "France            0.000003\n",
       "Luxembourg        0.000003\n",
       "Cyprus            0.000003\n",
       "Croatia           0.000003\n",
       "Lithuania         0.000003\n",
       "Name: cent_2013, dtype: float64"
      ]
     },
     "execution_count": 73,
     "metadata": {},
     "output_type": "execute_result"
    }
   ],
   "source": [
    "cent_df.set_index(\"Country\").cent_2013.sort_values(ascending=False)"
   ]
  },
  {
   "cell_type": "code",
   "execution_count": 60,
   "metadata": {
    "scrolled": true
   },
   "outputs": [
    {
     "data": {
      "text/plain": [
       "Country\n",
       "Liechtenstein     0.985067\n",
       "Switzerland       0.135530\n",
       "Belgium           0.051206\n",
       "Austria           0.045734\n",
       "Norway            0.045014\n",
       "Sweden            0.031897\n",
       "Denmark           0.029482\n",
       "Iceland           0.022542\n",
       "Spain             0.021716\n",
       "Germany           0.021715\n",
       "Netherlands       0.019640\n",
       "France            0.016198\n",
       "United Kingdom    0.012270\n",
       "Finland           0.010858\n",
       "Czechia           0.008402\n",
       "Portugal          0.007042\n",
       "Estonia           0.006606\n",
       "Hungary           0.006508\n",
       "Slovakia          0.005494\n",
       "Italy             0.005410\n",
       "Slovenia          0.002580\n",
       "Latvia            0.001912\n",
       "Romania           0.001214\n",
       "Bulgaria          0.001186\n",
       "Lithuania         0.000815\n",
       "Luxembourg        0.000003\n",
       "Greece            0.000003\n",
       "Poland            0.000003\n",
       "Ireland           0.000003\n",
       "Cyprus            0.000003\n",
       "Croatia           0.000003\n",
       "Malta             0.000003\n",
       "Name: cent_2015, dtype: float64"
      ]
     },
     "execution_count": 60,
     "metadata": {},
     "output_type": "execute_result"
    }
   ],
   "source": [
    "cent_df.set_index(\"Country\").cent_2015.sort_values(ascending=False)"
   ]
  },
  {
   "cell_type": "code",
   "execution_count": 92,
   "metadata": {
    "collapsed": true
   },
   "outputs": [],
   "source": [
    "g_2011 = nx.read_gpickle(f\"graphs/mig_cit/mig_cit2011\")\n",
    "g_2012"
   ]
  },
  {
   "cell_type": "code",
   "execution_count": 94,
   "metadata": {},
   "outputs": [
    {
     "data": {
      "text/plain": [
       "[('Belgium', 'Spain', 28972),\n",
       " ('Bulgaria', 'Spain', 149255),\n",
       " ('Denmark', 'Spain', 11255),\n",
       " ('Finland', 'Spain', 10287),\n",
       " ('France', 'Spain', 100429),\n",
       " ('Germany', 'Spain', 154248),\n",
       " ('Ireland', 'Spain', 13774),\n",
       " ('Italy', 'Spain', 172091),\n",
       " ('Lithuania', 'Spain', 19678),\n",
       " ('Netherlands', 'Spain', 45814),\n",
       " ('Norway', 'Spain', 15297),\n",
       " ('Poland', 'Spain', 76068),\n",
       " ('Portugal', 'Spain', 123757),\n",
       " ('Romania', 'Spain', 783230),\n",
       " ('Sweden', 'Spain', 19106),\n",
       " ('Switzerland', 'Spain', 14789),\n",
       " ('United Kingdom', 'Spain', 312153)]"
      ]
     },
     "execution_count": 94,
     "metadata": {},
     "output_type": "execute_result"
    }
   ],
   "source": [
    "list(g_2011.in_edges(\"Spain\", data=\"weight\"))"
   ]
  },
  {
   "cell_type": "code",
   "execution_count": 130,
   "metadata": {
    "collapsed": true
   },
   "outputs": [],
   "source": [
    "from collections import defaultdict\n",
    "def in_deltas(country, y1, y2, weight=\"weight\"):\n",
    "    g_1 = nx.read_gpickle(f\"graphs/mig_cit/mig_cit{y1}\")\n",
    "    g_2 = nx.read_gpickle(f\"graphs/mig_cit/mig_cit{y2}\")\n",
    "    \n",
    "    e_1 = list(g_1.in_edges(country, data=weight))\n",
    "    e_1_dict = {k:v for k, _, v in e_1}\n",
    "    e_2 = list(g_2.in_edges(country, data=weight))\n",
    "    e_2_dict = {k:v for k, _, v in e_2}\n",
    "    \n",
    "    vals = defaultdict(list)\n",
    "    for d in (e_1_dict, e_2_dict): \n",
    "        for key, value in d.items():\n",
    "            vals[key].append(value)\n",
    "    \n",
    "    delta = [(a, (b[1]-b[0])) for a,b in vals.items()]\n",
    "    return delta"
   ]
  },
  {
   "cell_type": "code",
   "execution_count": 140,
   "metadata": {},
   "outputs": [
    {
     "data": {
      "text/plain": [
       "[('Austria', 48),\n",
       " ('Belgium', -401),\n",
       " ('Bulgaria', 12359),\n",
       " ('Croatia', -3698),\n",
       " ('Cyprus', 38),\n",
       " ('Czechia', -51),\n",
       " ('Denmark', -280),\n",
       " ('Estonia', 110),\n",
       " ('Finland', -164),\n",
       " ('France', -3312),\n",
       " ('Germany', -2144),\n",
       " ('Greece', -1370),\n",
       " ('Hungary', 836),\n",
       " ('Iceland', -19),\n",
       " ('Ireland', -524),\n",
       " ('Latvia', 339),\n",
       " ('Liechtenstein', -16),\n",
       " ('Lithuania', 770),\n",
       " ('Luxembourg', -2),\n",
       " ('Malta', -157),\n",
       " ('Netherlands', -586),\n",
       " ('Norway', -64),\n",
       " ('Poland', 5422),\n",
       " ('Portugal', -444),\n",
       " ('Romania', 316589),\n",
       " ('Slovakia', 702),\n",
       " ('Slovenia', -514),\n",
       " ('Spain', -1953),\n",
       " ('Sweden', -595),\n",
       " ('Switzerland', 79),\n",
       " ('United Kingdom', -2131)]"
      ]
     },
     "execution_count": 140,
     "metadata": {},
     "output_type": "execute_result"
    }
   ],
   "source": [
    "in_deltas(\"Italy\", 2007, 2009, \"weight\")"
   ]
  },
  {
   "cell_type": "code",
   "execution_count": 159,
   "metadata": {},
   "outputs": [
    {
     "data": {
      "text/plain": [
       "[[('Austria', 'Belgium', 2589),\n",
       "  ('Bulgaria', 'Belgium', 17768),\n",
       "  ('Croatia', 'Belgium', 952),\n",
       "  ('Cyprus', 'Belgium', 344),\n",
       "  ('Czechia', 'Belgium', 3008),\n",
       "  ('Denmark', 'Belgium', 2927),\n",
       "  ('Estonia', 'Belgium', 819),\n",
       "  ('Finland', 'Belgium', 3051),\n",
       "  ('France', 'Belgium', 145274),\n",
       "  ('Germany', 'Belgium', 39842),\n",
       "  ('Greece', 'Belgium', 14799),\n",
       "  ('Hungary', 'Belgium', 4451),\n",
       "  ('Iceland', 'Belgium', 226),\n",
       "  ('Ireland', 'Belgium', 3743),\n",
       "  ('Italy', 'Belgium', 162827),\n",
       "  ('Latvia', 'Belgium', 1177),\n",
       "  ('Liechtenstein', 'Belgium', 14),\n",
       "  ('Lithuania', 'Belgium', 1663),\n",
       "  ('Luxembourg', 'Belgium', 4386),\n",
       "  ('Malta', 'Belgium', 409),\n",
       "  ('Netherlands', 'Belgium', 137797),\n",
       "  ('Norway', 'Belgium', 1296),\n",
       "  ('Poland', 'Belgium', 49697),\n",
       "  ('Portugal', 'Belgium', 34466),\n",
       "  ('Romania', 'Belgium', 34178),\n",
       "  ('Slovakia', 'Belgium', 5428),\n",
       "  ('Slovenia', 'Belgium', 888),\n",
       "  ('Spain', 'Belgium', 48002),\n",
       "  ('Sweden', 'Belgium', 4376),\n",
       "  ('Switzerland', 'Belgium', 2121),\n",
       "  ('United Kingdom', 'Belgium', 24973)]]"
      ]
     },
     "execution_count": 159,
     "metadata": {},
     "output_type": "execute_result"
    }
   ],
   "source": [
    "[list(g_2011.in_edges('', data=\"weight\"))]"
   ]
  },
  {
   "cell_type": "code",
   "execution_count": 164,
   "metadata": {
    "collapsed": true
   },
   "outputs": [],
   "source": [
    "def weighted_out_degree_centrality(net, weight):\n",
    "    out_degrees = {}\n",
    "    for node in net.nodes:\n",
    "        out_degrees[node] = sum([val for _,_,val in list(net.out_edges(node, data=weight))])\n",
    "    total = sum(out_degrees.values())\n",
    "    cents = {k:(v/total) for k, v in out_degrees.items()}\n",
    "    return cents\n",
    "\n",
    "def weighted_in_degree_centrality(net, weight):\n",
    "    in_degrees = {}\n",
    "    for node in net.nodes:\n",
    "        in_degrees[node] = sum([val for _,_,val in list(net.in_edges(node, data=weight))])\n",
    "    total = sum(in_degrees.values())\n",
    "    cents = {k:(v/total) for k, v in in_degrees.items()}\n",
    "    return cents"
   ]
  },
  {
   "cell_type": "code",
   "execution_count": 170,
   "metadata": {},
   "outputs": [
    {
     "data": {
      "text/plain": [
       "[('Romania', 0.21499115782615102),\n",
       " ('Poland', 0.13101919733931897),\n",
       " ('Germany', 0.0961567606476872),\n",
       " ('Italy', 0.09155091706172816),\n",
       " ('United Kingdom', 0.07312117977713974),\n",
       " ('France', 0.06323131881086587),\n",
       " ('Portugal', 0.05844615598552581),\n",
       " ('Ireland', 0.045524411595730674),\n",
       " ('Bulgaria', 0.029421659589148386),\n",
       " ('Netherlands', 0.028632770625703827),\n",
       " ('Spain', 0.028304905642216237),\n",
       " ('Lithuania', 0.023169665385671723),\n",
       " ('Slovakia', 0.013657531720416548),\n",
       " ('Sweden', 0.011900665933810145),\n",
       " ('Finland', 0.011788678176570911),\n",
       " ('Denmark', 0.0101996783359915),\n",
       " ('Belgium', 0.009213885278723414),\n",
       " ('Norway', 0.008678935496208729),\n",
       " ('Croatia', 0.00802308983940169),\n",
       " ('Austria', 0.007910292253339444),\n",
       " ('Hungary', 0.006020730229591099),\n",
       " ('Greece', 0.005325897099447674),\n",
       " ('Estonia', 0.004901662486021776),\n",
       " ('Latvia', 0.004821142363048112),\n",
       " ('Switzerland', 0.004624006889560867),\n",
       " ('Czechia', 0.004572871983879316),\n",
       " ('Iceland', 0.0024386259657497938),\n",
       " ('Slovenia', 0.0009687866519848558),\n",
       " ('Luxembourg', 0.0007699158310197295),\n",
       " ('Malta', 0.00020858876684125806),\n",
       " ('Liechtenstein', 0.00020280427524832243),\n",
       " ('Cyprus', 0.00020211013625717015)]"
      ]
     },
     "execution_count": 170,
     "metadata": {},
     "output_type": "execute_result"
    }
   ],
   "source": [
    "sorted(weighted_out_degree_centrality(g_2011, \"weight\").items(), key = lambda x: x[1], reverse=True)"
   ]
  },
  {
   "cell_type": "code",
   "execution_count": 173,
   "metadata": {},
   "outputs": [
    {
     "data": {
      "text/plain": [
       "[('Germany', 0.11886227785356193),\n",
       " ('Poland', 0.11288585605569454),\n",
       " ('Switzerland', 0.11259974030429164),\n",
       " ('Italy', 0.10680948620673811),\n",
       " ('Austria', 0.07196418915075434),\n",
       " ('Romania', 0.06283750588635117),\n",
       " ('Portugal', 0.06181918359752362),\n",
       " ('United Kingdom', 0.06176412119980933),\n",
       " ('France', 0.04458719797756947),\n",
       " ('Spain', 0.03269452486182272),\n",
       " ('Netherlands', 0.026896555921540832),\n",
       " ('Lithuania', 0.023744168423141646),\n",
       " ('Sweden', 0.017804943436590538),\n",
       " ('Slovakia', 0.015255194888948984),\n",
       " ('Denmark', 0.015166502369715684),\n",
       " ('Croatia', 0.014809112091238615),\n",
       " ('Bulgaria', 0.012634845436006311),\n",
       " ('Finland', 0.012339024511840796),\n",
       " ('Latvia', 0.01042283286360161),\n",
       " ('Norway', 0.009672763190780155),\n",
       " ('Ireland', 0.009377449418068607),\n",
       " ('Hungary', 0.008952566701965857),\n",
       " ('Estonia', 0.008568449089441415),\n",
       " ('Czechia', 0.007000040299710019),\n",
       " ('Greece', 0.006663132438043045),\n",
       " ('Belgium', 0.006078636709635433),\n",
       " ('Iceland', 0.0039206294453832564),\n",
       " ('Slovenia', 0.0022943937688342615),\n",
       " ('Luxembourg', 0.0008744826927679699),\n",
       " ('Malta', 0.0002504886863939029),\n",
       " ('Liechtenstein', 0.00024448781620994316),\n",
       " ('Cyprus', 0.00020521670602422718)]"
      ]
     },
     "execution_count": 173,
     "metadata": {},
     "output_type": "execute_result"
    }
   ],
   "source": [
    "sorted(weighted_out_degree_centrality(g_2011, \"scaled\").items(), key = lambda x: x[1], reverse=True)"
   ]
  },
  {
   "cell_type": "code",
   "execution_count": 175,
   "metadata": {},
   "outputs": [
    {
     "data": {
      "text/plain": [
       "[('Germany', 0.12649702438617086),\n",
       " ('Italy', 0.11840132695788329),\n",
       " ('Switzerland', 0.11549185758495746),\n",
       " ('Poland', 0.08449043480158304),\n",
       " ('Austria', 0.0747442325130393),\n",
       " ('United Kingdom', 0.06244613626216934),\n",
       " ('Portugal', 0.059598938205827276),\n",
       " ('Romania', 0.05889565975399479),\n",
       " ('France', 0.044888194429168526),\n",
       " ('Spain', 0.03417179951727706),\n",
       " ('Netherlands', 0.028267567689796998),\n",
       " ('Croatia', 0.025930614805972182),\n",
       " ('Slovakia', 0.017659077036978787),\n",
       " ('Sweden', 0.016318586554251294),\n",
       " ('Lithuania', 0.01630998499190904),\n",
       " ('Finland', 0.01330209780580096),\n",
       " ('Denmark', 0.012610380042026218),\n",
       " ('Bulgaria', 0.012076560005809384),\n",
       " ('Greece', 0.011098011544185401),\n",
       " ('Hungary', 0.010667839441764963),\n",
       " ('Ireland', 0.009251269769330875),\n",
       " ('Norway', 0.00909724557037848),\n",
       " ('Czechia', 0.008093731608874517),\n",
       " ('Latvia', 0.007660463723207871),\n",
       " ('Estonia', 0.006799245490487412),\n",
       " ('Belgium', 0.006425913866620466),\n",
       " ('Slovenia', 0.0036206479242634187),\n",
       " ('Iceland', 0.003335061837423274),\n",
       " ('Luxembourg', 0.0011049926283599432),\n",
       " ('Liechtenstein', 0.00031036247564685443),\n",
       " ('Cyprus', 0.00021963950718742863),\n",
       " ('Malta', 0.00021510126765326336)]"
      ]
     },
     "execution_count": 175,
     "metadata": {},
     "output_type": "execute_result"
    }
   ],
   "source": [
    "g_2009 = nx.read_gpickle(f\"graphs/mig_cit/mig_cit2009\")\n",
    "sorted(weighted_out_degree_centrality(g_2009, \"scaled\").items(), key = lambda x: x[1], reverse=True)"
   ]
  },
  {
   "cell_type": "code",
   "execution_count": 176,
   "metadata": {},
   "outputs": [
    {
     "data": {
      "text/plain": [
       "[('Poland', 0.11420207397168901),\n",
       " ('Germany', 0.11347513782891125),\n",
       " ('Italy', 0.11274255638136085),\n",
       " ('Switzerland', 0.11160089580377484),\n",
       " ('Austria', 0.07291392984409949),\n",
       " ('United Kingdom', 0.061536504443643905),\n",
       " ('Portugal', 0.06131948526304087),\n",
       " ('Romania', 0.058748045255291356),\n",
       " ('France', 0.04472529185470009),\n",
       " ('Spain', 0.03328847546084352),\n",
       " ('Netherlands', 0.027675002908171657),\n",
       " ('Lithuania', 0.021428574716287927),\n",
       " ('Croatia', 0.01772540582853625),\n",
       " ('Sweden', 0.01724744110906711),\n",
       " ('Slovakia', 0.015272293789979092),\n",
       " ('Denmark', 0.015114941180128818),\n",
       " ('Finland', 0.012809439969328781),\n",
       " ('Bulgaria', 0.011928545237758884),\n",
       " ('Greece', 0.010424985467148243),\n",
       " ('Norway', 0.009611710850199526),\n",
       " ('Latvia', 0.009602390183812886),\n",
       " ('Ireland', 0.00891377637543172),\n",
       " ('Hungary', 0.008774213910702988),\n",
       " ('Estonia', 0.007486624831259235),\n",
       " ('Czechia', 0.0071426736643089616),\n",
       " ('Belgium', 0.006316751155130635),\n",
       " ('Iceland', 0.0036019593294930965),\n",
       " ('Slovenia', 0.0026524888204850785),\n",
       " ('Luxembourg', 0.0010295751811828099),\n",
       " ('Liechtenstein', 0.0002473544858118832),\n",
       " ('Malta', 0.00023806940699154253),\n",
       " ('Cyprus', 0.00020338549142758655)]"
      ]
     },
     "execution_count": 176,
     "metadata": {},
     "output_type": "execute_result"
    }
   ],
   "source": [
    "g_2010 = nx.read_gpickle(f\"graphs/mig_cit/mig_cit2010\")\n",
    "sorted(weighted_out_degree_centrality(g_2010, \"scaled\").items(), key = lambda x: x[1], reverse=True)"
   ]
  },
  {
   "cell_type": "code",
   "execution_count": 177,
   "metadata": {},
   "outputs": [
    {
     "data": {
      "text/plain": [
       "[('Portugal', 0.1558716502031557),\n",
       " ('Germany', 0.10468952418876819),\n",
       " ('Italy', 0.09793499895798777),\n",
       " ('Poland', 0.08553744516625122),\n",
       " ('France', 0.07881477231836859),\n",
       " ('Switzerland', 0.06575825788452122),\n",
       " ('Romania', 0.06083897275205088),\n",
       " ('Austria', 0.04649036961771542),\n",
       " ('Spain', 0.03368922973895687),\n",
       " ('United Kingdom', 0.03296160280283637),\n",
       " ('Belgium', 0.02789445256859373),\n",
       " ('Netherlands', 0.024295986790055037),\n",
       " ('Bulgaria', 0.02168456252134226),\n",
       " ('Croatia', 0.017393023606561777),\n",
       " ('Lithuania', 0.017201209839857363),\n",
       " ('Slovakia', 0.016132912199681937),\n",
       " ('Hungary', 0.01584912569019909),\n",
       " ('Sweden', 0.014473526942376264),\n",
       " ('Greece', 0.011863480929204653),\n",
       " ('Denmark', 0.011654669634828842),\n",
       " ('Finland', 0.009978675806866037),\n",
       " ('Estonia', 0.00872288735745602),\n",
       " ('Latvia', 0.008459760778218578),\n",
       " ('Ireland', 0.007957768678645397),\n",
       " ('Czechia', 0.0072416483502587845),\n",
       " ('Norway', 0.006223649873352514),\n",
       " ('Slovenia', 0.004386563487963074),\n",
       " ('Iceland', 0.003128074705728722),\n",
       " ('Cyprus', 0.0014172048517855046),\n",
       " ('Luxembourg', 0.0007540795217724818),\n",
       " ('Malta', 0.0005097685543154769),\n",
       " ('Liechtenstein', 0.0001901436803243344)]"
      ]
     },
     "execution_count": 177,
     "metadata": {},
     "output_type": "execute_result"
    }
   ],
   "source": [
    "g_2016 = nx.read_gpickle(f\"graphs/mig_cit/mig_cit2016\")\n",
    "sorted(weighted_out_degree_centrality(g_2016, \"scaled\").items(), key = lambda x: x[1], reverse=True)"
   ]
  },
  {
   "cell_type": "code",
   "execution_count": 179,
   "metadata": {},
   "outputs": [
    {
     "data": {
      "text/plain": [
       "[('Germany', 0.12566774145604667),\n",
       " ('Poland', 0.10781514272645325),\n",
       " ('Italy', 0.1040923782393417),\n",
       " ('Switzerland', 0.09391834019991434),\n",
       " ('Romania', 0.07135943193144813),\n",
       " ('Portugal', 0.06984821211547548),\n",
       " ('Austria', 0.06458177524551002),\n",
       " ('France', 0.042922477810108814),\n",
       " ('Spain', 0.03773844725860313),\n",
       " ('United Kingdom', 0.035365058417513855),\n",
       " ('Netherlands', 0.027489247951288206),\n",
       " ('Croatia', 0.022734893614549168),\n",
       " ('Lithuania', 0.021947808610320835),\n",
       " ('Slovakia', 0.020066111425916563),\n",
       " ('Bulgaria', 0.019366854161402144),\n",
       " ('Hungary', 0.018087231410491258),\n",
       " ('Sweden', 0.01703398492770139),\n",
       " ('Denmark', 0.013287007070817662),\n",
       " ('Finland', 0.012065149831508318),\n",
       " ('Greece', 0.011387887724625106),\n",
       " ('Estonia', 0.011070565448899304),\n",
       " ('Latvia', 0.010713868665463035),\n",
       " ('Ireland', 0.008520260709347676),\n",
       " ('Norway', 0.00844479966719288),\n",
       " ('Belgium', 0.007491638649345987),\n",
       " ('Czechia', 0.007398440772590427),\n",
       " ('Slovenia', 0.004042052498168416),\n",
       " ('Iceland', 0.003707215385145944),\n",
       " ('Luxembourg', 0.0010756779685577808),\n",
       " ('Cyprus', 0.0002709127155202209),\n",
       " ('Liechtenstein', 0.00025318512728501614),\n",
       " ('Malta', 0.0002362002634471654)]"
      ]
     },
     "execution_count": 179,
     "metadata": {},
     "output_type": "execute_result"
    }
   ],
   "source": [
    "g_2015 = nx.read_gpickle(f\"graphs/mig_cit/mig_cit2015\")\n",
    "sorted(weighted_out_degree_centrality(g_2015, \"scaled\").items(), key = lambda x: x[1], reverse=True)"
   ]
  },
  {
   "cell_type": "code",
   "execution_count": 180,
   "metadata": {},
   "outputs": [
    {
     "data": {
      "text/plain": [
       "[('Germany', 0.12902623477280817),\n",
       " ('Italy', 0.10566120501385665),\n",
       " ('Poland', 0.10355118694695642),\n",
       " ('Switzerland', 0.09868978729620846),\n",
       " ('Portugal', 0.07052953330821785),\n",
       " ('Romania', 0.06849242241952201),\n",
       " ('Austria', 0.06723663398666595),\n",
       " ('France', 0.04290714459548509),\n",
       " ('United Kingdom', 0.03649894906593444),\n",
       " ('Spain', 0.03636533473580192),\n",
       " ('Netherlands', 0.027990178211029233),\n",
       " ('Croatia', 0.02275045944775032),\n",
       " ('Lithuania', 0.021746650775006426),\n",
       " ('Bulgaria', 0.017976905083252805),\n",
       " ('Slovakia', 0.017919035463433677),\n",
       " ('Sweden', 0.017363619553775144),\n",
       " ('Hungary', 0.016227137529750583),\n",
       " ('Denmark', 0.013943592055419037),\n",
       " ('Finland', 0.011516530978128279),\n",
       " ('Greece', 0.011357347351365558),\n",
       " ('Estonia', 0.010838232651877538),\n",
       " ('Latvia', 0.009881252481809884),\n",
       " ('Ireland', 0.008765190666123726),\n",
       " ('Norway', 0.008710924088829064),\n",
       " ('Belgium', 0.007513797420508279),\n",
       " ('Czechia', 0.007073689619523568),\n",
       " ('Slovenia', 0.003818751856682318),\n",
       " ('Iceland', 0.0038102314459487704),\n",
       " ('Luxembourg', 0.00110415751919892),\n",
       " ('Liechtenstein', 0.00026176911646424777),\n",
       " ('Cyprus', 0.00025814795799827865),\n",
       " ('Malta', 0.00021396658466736805)]"
      ]
     },
     "execution_count": 180,
     "metadata": {},
     "output_type": "execute_result"
    }
   ],
   "source": [
    "g_2014 = nx.read_gpickle(f\"graphs/mig_cit/mig_cit2014\")\n",
    "sorted(weighted_out_degree_centrality(g_2014, \"scaled\").items(), key = lambda x: x[1], reverse=True)"
   ]
  },
  {
   "cell_type": "code",
   "execution_count": 181,
   "metadata": {
    "collapsed": true
   },
   "outputs": [],
   "source": [
    "cent_df = pd.DataFrame(sorted(list(g_2017.nodes())), columns=['Country'])"
   ]
  },
  {
   "cell_type": "code",
   "execution_count": 182,
   "metadata": {
    "collapsed": true
   },
   "outputs": [],
   "source": [
    "# scaled\n",
    "for year in range(1998, 2018):\n",
    "    g = nx.read_gpickle(f\"graphs/mig_cit/mig_cit{year}\")\n",
    "    cent_df[f'cent_{year}'] = np.zeros(n_countries)\n",
    "    cent_vals = weighted_out_degree_centrality(g, \"scaled\")\n",
    "    cent_df[f'cent_{year}'] =cent_df.apply(lambda r: cent_vals[r['Country']], axis=1)"
   ]
  },
  {
   "cell_type": "code",
   "execution_count": 183,
   "metadata": {
    "collapsed": true
   },
   "outputs": [],
   "source": [
    "cent_df.to_csv(\"data/out_cent_scaled.csv\")"
   ]
  },
  {
   "cell_type": "code",
   "execution_count": 184,
   "metadata": {
    "collapsed": true
   },
   "outputs": [],
   "source": [
    "cent_df = pd.DataFrame(sorted(list(g_2017.nodes())), columns=['Country'])"
   ]
  },
  {
   "cell_type": "code",
   "execution_count": 185,
   "metadata": {
    "collapsed": true
   },
   "outputs": [],
   "source": [
    "# scaled\n",
    "for year in range(1998, 2018):\n",
    "    g = nx.read_gpickle(f\"graphs/mig_cit/mig_cit{year}\")\n",
    "    cent_df[f'cent_{year}'] = np.zeros(n_countries)\n",
    "    cent_vals = weighted_out_degree_centrality(g, \"weight\")\n",
    "    cent_df[f'cent_{year}'] =cent_df.apply(lambda r: cent_vals[r['Country']], axis=1)"
   ]
  },
  {
   "cell_type": "code",
   "execution_count": 186,
   "metadata": {
    "collapsed": true
   },
   "outputs": [],
   "source": [
    "cent_df.to_csv(\"data/out_cent_unscaled.csv\")"
   ]
  },
  {
   "cell_type": "code",
   "execution_count": 188,
   "metadata": {},
   "outputs": [
    {
     "data": {
      "text/plain": [
       "[('Romania', 0.1720117239513231),\n",
       " ('Poland', 0.1406098474032591),\n",
       " ('Italy', 0.09952393150361839),\n",
       " ('Portugal', 0.07852803670292316),\n",
       " ('Germany', 0.0642063428254103),\n",
       " ('United Kingdom', 0.04914956478583595),\n",
       " ('France', 0.04663804503939725),\n",
       " ('Bulgaria', 0.0415301717057238),\n",
       " ('Spain', 0.04075197613968095),\n",
       " ('Netherlands', 0.03005099913483372),\n",
       " ('Croatia', 0.025765554629280655),\n",
       " ('Greece', 0.025509610717911718),\n",
       " ('Hungary', 0.02411877378773216),\n",
       " ('Lithuania', 0.021799305462994842),\n",
       " ('Ireland', 0.021558533346831246),\n",
       " ('Slovakia', 0.019798284572127327),\n",
       " ('Austria', 0.015143855596562734),\n",
       " ('Belgium', 0.01482220285384673),\n",
       " ('Latvia', 0.010603642459551005),\n",
       " ('Sweden', 0.010332099378463903),\n",
       " ('Czechia', 0.009244538086948811),\n",
       " ('Denmark', 0.0075160752916363606),\n",
       " ('Finland', 0.006794667113985324),\n",
       " ('Estonia', 0.004916089021042585),\n",
       " ('Switzerland', 0.004794768081213979),\n",
       " ('Norway', 0.004627664646698839),\n",
       " ('Slovenia', 0.0036846627841472905),\n",
       " ('Cyprus', 0.0019804534924377417),\n",
       " ('Luxembourg', 0.0018181580211918994),\n",
       " ('Iceland', 0.001436352315795575),\n",
       " ('Malta', 0.0005822977737260299),\n",
       " ('Liechtenstein', 0.00015177137386749093)]"
      ]
     },
     "execution_count": 188,
     "metadata": {},
     "output_type": "execute_result"
    }
   ],
   "source": [
    "g_2016 = nx.read_gpickle(f\"graphs/mig_cit/mig_cit2017\")\n",
    "sorted(weighted_out_degree_centrality(g_2017, \"weight\").items(), key = lambda x: x[1], reverse=True)"
   ]
  },
  {
   "cell_type": "code",
   "execution_count": 193,
   "metadata": {},
   "outputs": [
    {
     "data": {
      "text/plain": [
       "[('Germany', 0.21548709075217648),\n",
       " ('United Kingdom', 0.19373623887457334),\n",
       " ('Spain', 0.10202321765462743),\n",
       " ('France', 0.08481631844102325),\n",
       " ('Italy', 0.08260695247515285),\n",
       " ('Switzerland', 0.0740938658669065),\n",
       " ('Belgium', 0.047750768005355),\n",
       " ('Austria', 0.035510815379819746),\n",
       " ('Netherlands', 0.026409981972808833),\n",
       " ('Ireland', 0.022864483014400652),\n",
       " ('Norway', 0.019187619815112442),\n",
       " ('Sweden', 0.01878754384929279),\n",
       " ('Luxembourg', 0.012901100996877761),\n",
       " ('Denmark', 0.012245134541503274),\n",
       " ('Czechia', 0.011174668230501238),\n",
       " ('Greece', 0.010963278112094459),\n",
       " ('Portugal', 0.006430544029057193),\n",
       " ('Finland', 0.005271183819387257),\n",
       " ('Hungary', 0.004362639026932341),\n",
       " ('Slovakia', 0.002919929515258472),\n",
       " ('Romania', 0.0029064672181044393),\n",
       " ('Poland', 0.001573112159900037),\n",
       " ('Iceland', 0.0013628438995894267),\n",
       " ('Slovenia', 0.0010059327595652427),\n",
       " ('Estonia', 0.0008925716700380283),\n",
       " ('Croatia', 0.0008061885966329834),\n",
       " ('Bulgaria', 0.0007291009188819135),\n",
       " ('Liechtenstein', 0.000553449994110245),\n",
       " ('Latvia', 0.0003244306770493743),\n",
       " ('Lithuania', 0.00030252773326701907),\n",
       " ('Cyprus', 0.0),\n",
       " ('Malta', 0.0)]"
      ]
     },
     "execution_count": 193,
     "metadata": {},
     "output_type": "execute_result"
    }
   ],
   "source": [
    "g_2017 = nx.read_gpickle(f\"graphs/mig_cit/mig_cit2017\")\n",
    "sorted(weighted_in_degree_centrality(g_2017, \"weight\").items(), key = lambda x: x[1], reverse=True)"
   ]
  },
  {
   "cell_type": "code",
   "execution_count": null,
   "metadata": {
    "collapsed": true
   },
   "outputs": [],
   "source": []
  }
 ],
 "metadata": {
  "kernelspec": {
   "display_name": "Python 3",
   "language": "python",
   "name": "python3"
  },
  "language_info": {
   "codemirror_mode": {
    "name": "ipython",
    "version": 3
   },
   "file_extension": ".py",
   "mimetype": "text/x-python",
   "name": "python",
   "nbconvert_exporter": "python",
   "pygments_lexer": "ipython3",
   "version": "3.6.3"
  }
 },
 "nbformat": 4,
 "nbformat_minor": 2
}
