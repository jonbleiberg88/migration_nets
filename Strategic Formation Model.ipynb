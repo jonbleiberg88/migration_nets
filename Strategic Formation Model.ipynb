{
 "cells": [
  {
   "cell_type": "code",
   "execution_count": 1,
   "metadata": {
    "collapsed": true
   },
   "outputs": [],
   "source": [
    "import numpy as np\n",
    "import networkx as nx"
   ]
  },
  {
   "cell_type": "code",
   "execution_count": 91,
   "metadata": {},
   "outputs": [],
   "source": [
    "# number of simulation nodes\n",
    "n_high = 5\n",
    "n_low = 5\n",
    "\n",
    "# model gdp values\n",
    "gdp_high = 10\n",
    "gdp_low = 1\n",
    "\n",
    "# init model network\n",
    "def init_model_network(n_high, n_low, gdp_high, gdp_low):\n",
    "    G = nx.DiGraph()\n",
    "\n",
    "    G.add_nodes_from(list(range(n_high)), group=\"H\", gdp=gdp_high)\n",
    "    G.add_nodes_from(list(range(n_high, n_high+n_low)), group=\"L\", gdp=gdp_low)\n",
    "    \n",
    "    return G\n"
   ]
  },
  {
   "cell_type": "code",
   "execution_count": 92,
   "metadata": {},
   "outputs": [],
   "source": [
    "G = init_model_network(n_high, n_low, gdp_high, gdp_low)"
   ]
  },
  {
   "cell_type": "code",
   "execution_count": 198,
   "metadata": {},
   "outputs": [],
   "source": [
    "def get_net_payoff(G, origin, a, b, c, d):\n",
    "    gdp_dict = dict(G.nodes(data=\"gdp\"))\n",
    "    origin_gdp = gdp_dict.pop(origin)\n",
    "    \n",
    "    gdp_diff = [(node, a * (val - origin_gdp)) for node, val in gdp_dict.items()]\n",
    "    gdp_dest = [b * val for _, val in gdp_dict.items()]\n",
    "    \n",
    "    degree_dict = dict(G.in_degree)\n",
    "    del degree_dict[origin]\n",
    "    degree_payoffs = [c * val for _, val in degree_dict.items()]\n",
    "    \n",
    "    total_payoffs = list(zip(gdp_diff, gdp_dest, degree_payoffs))\n",
    "    total_payoffs = [(n, v1+v2+v3) for (n, v1), v2, v3 in total_payoffs]\n",
    "    \n",
    "    net_payoffs = [(n, v - (d/origin_gdp)) for n,v in total_payoffs]\n",
    "    return net_payoffs\n",
    "\n",
    "def softmax(x):\n",
    "    return np.exp(x) / np.sum(np.exp(x))\n",
    "\n",
    "\n",
    "from scipy.special import expit\n",
    "\n",
    "def decide_to_link(net_payoffs, e):\n",
    "    avg_payoff = np.mean([v for _,v in net_payoffs])\n",
    "    prob = e * expit(avg_payoff)\n",
    "    decision = np.random.choice([False,True], size=1, p = [1-prob, prob])[0]\n",
    "    \n",
    "    return decision\n",
    "\n",
    "def pick_dest_node(net_payoffs):\n",
    "    probs = softmax([v for _,v in net_payoffs])\n",
    "    dest_node = np.random.choice([n for n,_ in net_payoffs], size=1, p=probs)[0]\n",
    "    \n",
    "    return dest_node\n",
    "\n",
    "def add_edge(G, origin, dest):\n",
    "    if G.has_edge(origin, dest):\n",
    "        prev_weight = G.get_edge_data(origin, dest)['weight']\n",
    "        nx.set_edge_attributes(G, {(origin, dest):{'weight': (prev_weight + 1)}})\n",
    "    else:\n",
    "        G.add_edge(origin, dest, weight=1)\n",
    "                                   \n",
    "    return G\n",
    "    \n",
    "def node_time_step(G, origin, a, b, c, d, e):\n",
    "    net_payoffs = get_net_payoff(G, origin, a, b, c, d)\n",
    "    if decide_to_link(net_payoffs, e):\n",
    "        dest = pick_dest_node(net_payoffs)\n",
    "        return (origin, dest)\n",
    "    \n",
    "    else:\n",
    "        return None\n",
    "    \n",
    "    \n",
    "\n",
    "def time_step(G, a, b, c, d, e):\n",
    "    edges_to_add = []\n",
    "    for node in G.nodes:\n",
    "        edge = node_time_step(G, node, a, b, c, d, e)\n",
    "        if edge is not None:\n",
    "            edges_to_add.append(edge)\n",
    "            \n",
    "    for edge in edges_to_add:\n",
    "        G = add_edge(G, edge[0], edge[1])\n",
    "        \n",
    "    return G\n",
    "    "
   ]
  },
  {
   "cell_type": "code",
   "execution_count": 199,
   "metadata": {
    "collapsed": true
   },
   "outputs": [],
   "source": [
    "# parameter values\n",
    "a, b, c, d, e = 1, 1, 0.75, 1, 0.5\n",
    "\n",
    "# number of periods to run simulation\n",
    "n_steps = 10\n",
    "\n",
    "# number of simulation nodes\n",
    "n_high = 5\n",
    "n_low = 5\n",
    "\n",
    "# model gdp values\n",
    "gdp_high = 10\n",
    "gdp_low = 1\n",
    "\n",
    "def run_simulation(n_steps, n_high, n_low, gdp_high, gdp_low, a=a, b=b, c=c, d=d, e=e):\n",
    "    G = init_model_network(n_high, n_low, gdp_high, gdp_low)\n",
    "    for step in range(n_steps):\n",
    "        G = time_step(G, a, b, c, d, e)\n",
    "        \n",
    "    return G"
   ]
  },
  {
   "cell_type": "code",
   "execution_count": 200,
   "metadata": {},
   "outputs": [],
   "source": [
    "G = run_simulation(n_steps, n_high, n_low, gdp_high, gdp_low)"
   ]
  },
  {
   "cell_type": "code",
   "execution_count": 201,
   "metadata": {},
   "outputs": [
    {
     "data": {
      "text/plain": [
       "OutEdgeDataView([(0, 2, {'weight': 2}), (1, 2, {'weight': 3}), (2, 0, {'weight': 4}), (2, 1, {'weight': 1}), (3, 2, {'weight': 4}), (3, 0, {'weight': 1}), (4, 2, {'weight': 2}), (5, 2, {'weight': 3}), (5, 0, {'weight': 2}), (6, 1, {'weight': 2}), (6, 2, {'weight': 4}), (7, 1, {'weight': 1}), (7, 0, {'weight': 2}), (7, 2, {'weight': 3}), (8, 2, {'weight': 4}), (9, 2, {'weight': 4})])"
      ]
     },
     "execution_count": 201,
     "metadata": {},
     "output_type": "execute_result"
    }
   ],
   "source": [
    "G.edges(data=True)"
   ]
  },
  {
   "cell_type": "code",
   "execution_count": 202,
   "metadata": {},
   "outputs": [
    {
     "data": {
      "text/plain": [
       "[{0, 1, 2}, {3}, {4}, {5}, {6}, {7}, {8}, {9}]"
      ]
     },
     "execution_count": 202,
     "metadata": {},
     "output_type": "execute_result"
    }
   ],
   "source": [
    "list(nx.strongly_connected_components(G))"
   ]
  },
  {
   "cell_type": "code",
   "execution_count": 184,
   "metadata": {},
   "outputs": [
    {
     "data": {
      "text/plain": [
       "[{0, 1, 2, 3, 4, 5, 6, 7, 8, 9}]"
      ]
     },
     "execution_count": 184,
     "metadata": {},
     "output_type": "execute_result"
    }
   ],
   "source": [
    "list(nx.weakly_connected_components(G))"
   ]
  },
  {
   "cell_type": "code",
   "execution_count": null,
   "metadata": {
    "collapsed": true
   },
   "outputs": [],
   "source": []
  }
 ],
 "metadata": {
  "kernelspec": {
   "display_name": "Python 3",
   "language": "python",
   "name": "python3"
  },
  "language_info": {
   "codemirror_mode": {
    "name": "ipython",
    "version": 3
   },
   "file_extension": ".py",
   "mimetype": "text/x-python",
   "name": "python",
   "nbconvert_exporter": "python",
   "pygments_lexer": "ipython3",
   "version": "3.6.3"
  }
 },
 "nbformat": 4,
 "nbformat_minor": 2
}
